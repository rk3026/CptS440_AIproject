{
 "cells": [
  {
   "cell_type": "markdown",
   "metadata": {},
   "source": [
    "This notebook just tests HuggingFace models"
   ]
  },
  {
   "cell_type": "code",
   "execution_count": 18,
   "metadata": {},
   "outputs": [
    {
     "name": "stdout",
     "output_type": "stream",
     "text": [
      "Test Case 1: This movie was lit 🔥🔥! Classification: {'label': 'positive', 'score': 0.9712}\n",
      "Test Case 2: I love this song so much 😍 Classification: {'label': 'positive', 'score': 0.9895}\n",
      "Test Case 3: I’m having a great time, everyone is so friendly! Classification: {'label': 'positive', 'score': 0.9914}\n",
      "Test Case 4: Such a great experience, I highly recommend it! Classification: {'label': 'positive', 'score': 0.9904}\n",
      "Test Case 5: Ugh, I hate waiting for this! Classification: {'label': 'negative', 'score': 0.9745}\n",
      "Test Case 6: Why is this place always so crowded? 😩 Classification: {'label': 'negative', 'score': 0.9447}\n",
      "Test Case 7: I can't believe how bad the service was! Classification: {'label': 'negative', 'score': 0.974}\n",
      "Test Case 8: This place sucks! Classification: {'label': 'negative', 'score': 0.9815}\n",
      "Test Case 9: It's just okay, not great but not terrible. Classification: {'label': 'positive', 'score': 0.7314}\n",
      "Test Case 10: I don't know what to feel about it. 🤔 Classification: {'label': 'negative', 'score': 0.5598}\n",
      "Test Case 11: The food was terrible, but the music was good! Classification: {'label': 'negative', 'score': 0.3992}\n",
      "Test Case 12: I'm not sure Classification: {'label': 'neutral', 'score': 0.698}\n"
     ]
    }
   ],
   "source": [
    "from transformers import AutoModelForSequenceClassification, AutoTokenizer\n",
    "import numpy as np\n",
    "from scipy.special import softmax\n",
    "import urllib.request\n",
    "import csv\n",
    "\n",
    "# Define model\n",
    "MODEL = \"cardiffnlp/twitter-roberta-base-sentiment\"\n",
    "\n",
    "# Load tokenizer and model\n",
    "tokenizer = AutoTokenizer.from_pretrained(MODEL)\n",
    "model = AutoModelForSequenceClassification.from_pretrained(MODEL)\n",
    "\n",
    "# Download label mapping (negative, neutral, positive)\n",
    "labels = []\n",
    "mapping_link = \"https://raw.githubusercontent.com/cardiffnlp/tweeteval/main/datasets/sentiment/mapping.txt\"\n",
    "with urllib.request.urlopen(mapping_link) as f:\n",
    "    html = f.read().decode('utf-8').split(\"\\n\")\n",
    "    csvreader = csv.reader(html, delimiter='\\t')\n",
    "    labels = [row[1] for row in csvreader if len(row) > 1]\n",
    "\n",
    "def classify_tweet(text):\n",
    "    # Tokenize text\n",
    "    encoded_input = tokenizer(text, return_tensors=\"pt\")\n",
    "    \n",
    "    # Run model and get logits\n",
    "    output = model(**encoded_input)\n",
    "    scores = output[0][0].detach().numpy()\n",
    "    \n",
    "    # Apply softmax to convert to probabilities\n",
    "    scores = softmax(scores)\n",
    "    \n",
    "    # Rank labels by confidence\n",
    "    ranking = np.argsort(scores)[::-1]\n",
    "    \n",
    "    # Get highest-ranked sentiment\n",
    "    sentiment = labels[ranking[0]]\n",
    "    confidence = scores[ranking[0]]\n",
    "    \n",
    "    return {\"label\": sentiment, \"score\": round(float(confidence), 4)}\n",
    "\n",
    "# Test cases to classify\n",
    "test_cases = [\n",
    "    \"This movie was lit 🔥🔥!\",  # positive\n",
    "    \"I love this song so much 😍\",  # positive\n",
    "    \"I’m having a great time, everyone is so friendly!\",  # positive\n",
    "    \"Such a great experience, I highly recommend it!\",  # positive\n",
    "    \n",
    "    \"Ugh, I hate waiting for this!\",  # negative\n",
    "    \"Why is this place always so crowded? 😩\",  # negative\n",
    "    \"I can't believe how bad the service was!\",  # negative\n",
    "    \"This place sucks!\", # negative\n",
    "    \n",
    "    \"It's just okay, not great but not terrible.\",  # neutral\n",
    "    \"I don't know what to feel about it. 🤔\",  # neutral\n",
    "    \"The food was terrible, but the music was good!\",  # neutral\n",
    "    \"I'm not sure\" # neutral\n",
    "]\n",
    "\n",
    "# Classify each test case and print the result\n",
    "for i, text in enumerate(test_cases, 1):\n",
    "    result = classify_tweet(text)\n",
    "    print(f\"Test Case {i}: {text} Classification: {result}\")\n"
   ]
  },
  {
   "cell_type": "code",
   "execution_count": 20,
   "metadata": {},
   "outputs": [
    {
     "name": "stderr",
     "output_type": "stream",
     "text": [
      "Device set to use cpu\n"
     ]
    },
    {
     "name": "stdout",
     "output_type": "stream",
     "text": [
      "Test Case 1: The food was fantastic, but the service was slow. Classification: [{'label': '3 stars', 'score': 0.49869871139526367}]\n",
      "Test Case 2: This place was terrible. The food was cold and the staff was rude. Classification: [{'label': '1 star', 'score': 0.8552736043930054}]\n",
      "Test Case 3: I had a wonderful experience here! The staff was friendly, and the food was amazing! Classification: [{'label': '5 stars', 'score': 0.8434882760047913}]\n",
      "Test Case 4: The ambiance was nice, but the food wasn't great. I expected better. Classification: [{'label': '3 stars', 'score': 0.6580864787101746}]\n",
      "Test Case 5: Absolutely awful. Never coming back. Classification: [{'label': '1 star', 'score': 0.9784294366836548}]\n",
      "Test Case 6: Loved the decor and the staff, but the food was too spicy for me. Classification: [{'label': '3 stars', 'score': 0.6273780465126038}]\n",
      "Test Case 7: This restaurant is incredible! One of the best meals I've ever had! Classification: [{'label': '5 stars', 'score': 0.9810261130332947}]\n",
      "Test Case 8: Not worth the price. Very disappointing. Classification: [{'label': '1 star', 'score': 0.5844526290893555}]\n",
      "Test Case 9: Great food, great service. Highly recommend! Classification: [{'label': '5 stars', 'score': 0.9241577982902527}]\n",
      "Test Case 10: The waiter was nice, but the food was just okay. Classification: [{'label': '3 stars', 'score': 0.7115175724029541}]\n"
     ]
    }
   ],
   "source": [
    "from transformers import pipeline\n",
    "\n",
    "# Define model and load sentiment pipeline for Yelp reviews\n",
    "model_id = \"nlptown/bert-base-multilingual-uncased-sentiment\"\n",
    "yelp_pipeline = pipeline(\"sentiment-analysis\", model=model_id)\n",
    "\n",
    "# Test cases to classify\n",
    "test_cases = [\n",
    "    \"The food was fantastic, but the service was slow.\",  # mixed sentiment\n",
    "    \"This place was terrible. The food was cold and the staff was rude.\",  # negative\n",
    "    \"I had a wonderful experience here! The staff was friendly, and the food was amazing!\",  # positive\n",
    "    \"The ambiance was nice, but the food wasn't great. I expected better.\",  # neutral\n",
    "    \"Absolutely awful. Never coming back.\",  # negative\n",
    "    \"Loved the decor and the staff, but the food was too spicy for me.\",  # mixed sentiment\n",
    "    \"This restaurant is incredible! One of the best meals I've ever had!\",  # positive\n",
    "    \"Not worth the price. Very disappointing.\",  # negative\n",
    "    \"Great food, great service. Highly recommend!\",  # positive\n",
    "    \"The waiter was nice, but the food was just okay.\",  # neutral\n",
    "]\n",
    "\n",
    "# Classify each Yelp review and print the result\n",
    "for i, text in enumerate(test_cases, 1):\n",
    "    result = yelp_pipeline(text)\n",
    "    print(f\"Test Case {i}: {text} Classification: {result}\")\n"
   ]
  }
 ],
 "metadata": {
  "kernelspec": {
   "display_name": "venv",
   "language": "python",
   "name": "python3"
  },
  "language_info": {
   "codemirror_mode": {
    "name": "ipython",
    "version": 3
   },
   "file_extension": ".py",
   "mimetype": "text/x-python",
   "name": "python",
   "nbconvert_exporter": "python",
   "pygments_lexer": "ipython3",
   "version": "3.12.8"
  }
 },
 "nbformat": 4,
 "nbformat_minor": 2
}
