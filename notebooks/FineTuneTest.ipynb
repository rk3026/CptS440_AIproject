{
 "cells": [
  {
   "cell_type": "markdown",
   "metadata": {},
   "source": [
    "This notebook tests fine-tuning a pretrained HuggingFace model."
   ]
  },
  {
   "cell_type": "markdown",
   "metadata": {},
   "source": [
    "This cell tests fine-tuning the Twitter Roberta Base Sentiment Model (https://huggingface.co/cardiffnlp/twitter-roberta-base-sentiment):"
   ]
  },
  {
   "cell_type": "code",
   "execution_count": 1,
   "metadata": {},
   "outputs": [
    {
     "data": {
      "application/vnd.jupyter.widget-view+json": {
       "model_id": "40ccab67d83846a4babed9f341eb83c4",
       "version_major": 2,
       "version_minor": 0
      },
      "text/plain": [
       "Filter:   0%|          | 0/732 [00:00<?, ? examples/s]"
      ]
     },
     "metadata": {},
     "output_type": "display_data"
    },
    {
     "data": {
      "application/vnd.jupyter.widget-view+json": {
       "model_id": "24d49048271c4ab0a12211e99143fe54",
       "version_major": 2,
       "version_minor": 0
      },
      "text/plain": [
       "Filter:   0%|          | 0/732 [00:00<?, ? examples/s]"
      ]
     },
     "metadata": {},
     "output_type": "display_data"
    },
    {
     "data": {
      "application/vnd.jupyter.widget-view+json": {
       "model_id": "e07f6b6073234dc5b97fd5e3377b8367",
       "version_major": 2,
       "version_minor": 0
      },
      "text/plain": [
       "Map:   0%|          | 0/67 [00:00<?, ? examples/s]"
      ]
     },
     "metadata": {},
     "output_type": "display_data"
    },
    {
     "data": {
      "application/vnd.jupyter.widget-view+json": {
       "model_id": "4f626fd57d414bd6813c03b9852a07ad",
       "version_major": 2,
       "version_minor": 0
      },
      "text/plain": [
       "Map:   0%|          | 0/67 [00:00<?, ? examples/s]"
      ]
     },
     "metadata": {},
     "output_type": "display_data"
    },
    {
     "data": {
      "application/vnd.jupyter.widget-view+json": {
       "model_id": "007cd645681e403cbdcf481e54382568",
       "version_major": 2,
       "version_minor": 0
      },
      "text/plain": [
       "Map:   0%|          | 0/67 [00:00<?, ? examples/s]"
      ]
     },
     "metadata": {},
     "output_type": "display_data"
    },
    {
     "data": {
      "application/vnd.jupyter.widget-view+json": {
       "model_id": "e3aaf9d5788f40b6a07c98f8e601081b",
       "version_major": 2,
       "version_minor": 0
      },
      "text/plain": [
       "Map:   0%|          | 0/67 [00:00<?, ? examples/s]"
      ]
     },
     "metadata": {},
     "output_type": "display_data"
    },
    {
     "name": "stderr",
     "output_type": "stream",
     "text": [
      "c:\\Users\\rossk\\Desktop\\WSU\\WSU Semester 4\\CPTS 440\\CptS440_AIproject\\venv\\Lib\\site-packages\\transformers\\training_args.py:1594: FutureWarning: `evaluation_strategy` is deprecated and will be removed in version 4.46 of 🤗 Transformers. Use `eval_strategy` instead\n",
      "  warnings.warn(\n"
     ]
    },
    {
     "data": {
      "text/html": [
       "\n",
       "    <div>\n",
       "      \n",
       "      <progress value='15' max='15' style='width:300px; height:20px; vertical-align: middle;'></progress>\n",
       "      [15/15 01:57, Epoch 3/3]\n",
       "    </div>\n",
       "    <table border=\"1\" class=\"dataframe\">\n",
       "  <thead>\n",
       " <tr style=\"text-align: left;\">\n",
       "      <th>Epoch</th>\n",
       "      <th>Training Loss</th>\n",
       "      <th>Validation Loss</th>\n",
       "      <th>Accuracy</th>\n",
       "    </tr>\n",
       "  </thead>\n",
       "  <tbody>\n",
       "    <tr>\n",
       "      <td>1</td>\n",
       "      <td>No log</td>\n",
       "      <td>0.241960</td>\n",
       "      <td>0.940299</td>\n",
       "    </tr>\n",
       "    <tr>\n",
       "      <td>2</td>\n",
       "      <td>No log</td>\n",
       "      <td>0.111401</td>\n",
       "      <td>0.970149</td>\n",
       "    </tr>\n",
       "    <tr>\n",
       "      <td>3</td>\n",
       "      <td>No log</td>\n",
       "      <td>0.083784</td>\n",
       "      <td>0.985075</td>\n",
       "    </tr>\n",
       "  </tbody>\n",
       "</table><p>"
      ],
      "text/plain": [
       "<IPython.core.display.HTML object>"
      ]
     },
     "metadata": {},
     "output_type": "display_data"
    },
    {
     "data": {
      "text/html": [
       "\n",
       "    <div>\n",
       "      \n",
       "      <progress value='5' max='5' style='width:300px; height:20px; vertical-align: middle;'></progress>\n",
       "      [5/5 00:04]\n",
       "    </div>\n",
       "    "
      ],
      "text/plain": [
       "<IPython.core.display.HTML object>"
      ]
     },
     "metadata": {},
     "output_type": "display_data"
    },
    {
     "name": "stdout",
     "output_type": "stream",
     "text": [
      "Fine-tuning complete and model saved!\n"
     ]
    },
    {
     "name": "stderr",
     "output_type": "stream",
     "text": [
      "Device set to use cpu\n"
     ]
    },
    {
     "name": "stdout",
     "output_type": "stream",
     "text": [
      "Test: [{'label': 'LABEL_2', 'score': 0.9943801760673523}]\n"
     ]
    }
   ],
   "source": [
    "from transformers import AutoTokenizer, AutoModelForSequenceClassification, Trainer, TrainingArguments\n",
    "from datasets import Dataset\n",
    "from evaluate import load\n",
    "import pandas as pd\n",
    "\n",
    "# 1. Load Dataset\n",
    "def load_dataset_from_csv(file_path):\n",
    "    df = pd.read_csv(file_path).drop(columns=[\"Unnamed: 0\"], errors=\"ignore\")\n",
    "    return Dataset.from_pandas(df)\n",
    "\n",
    "train_dataset = load_dataset_from_csv(\"../data/SocialMediaSentimentsAnalysisDataset.csv\")\n",
    "test_dataset = load_dataset_from_csv(\"../data/SocialMediaSentimentsAnalysisDataset.csv\")\n",
    "\n",
    "# 2. Map Sentiment Labels to Integers (Ignore unknown labels)\n",
    "sentiment_mapping = {\n",
    "    \"Positive\": 2,\n",
    "    \"Neutral\": 1,\n",
    "    \"Negative\": 0\n",
    "}\n",
    "\n",
    "def map_labels(example):\n",
    "    sentiment = example[\"Sentiment\"].strip()\n",
    "    if sentiment in sentiment_mapping:\n",
    "        example[\"labels\"] = sentiment_mapping[sentiment]\n",
    "        return example\n",
    "    else:\n",
    "        return None  # Skipping the unknown labels\n",
    "\n",
    "# Apply mapping and remove invalid examples\n",
    "train_dataset = train_dataset.filter(lambda example: example[\"Sentiment\"].strip() in sentiment_mapping)\n",
    "test_dataset = test_dataset.filter(lambda example: example[\"Sentiment\"].strip() in sentiment_mapping)\n",
    "\n",
    "train_dataset = train_dataset.map(map_labels)\n",
    "test_dataset = test_dataset.map(map_labels)\n",
    "\n",
    "# 3. Load Tokenizer and Model\n",
    "MODEL = \"cardiffnlp/twitter-roberta-base-sentiment\"\n",
    "tokenizer = AutoTokenizer.from_pretrained(MODEL)\n",
    "model = AutoModelForSequenceClassification.from_pretrained(MODEL, num_labels=3)  # 3 labels: negative, neutral, positive\n",
    "\n",
    "# 4. Tokenize Dataset\n",
    "def tokenize_function(example):\n",
    "    return tokenizer(example[\"Text\"], truncation=True, padding=\"max_length\", max_length=128)\n",
    "\n",
    "train_dataset = train_dataset.map(tokenize_function, batched=True)\n",
    "test_dataset = test_dataset.map(tokenize_function, batched=True)\n",
    "\n",
    "# 5. Remove Unnecessary Columns (Hugging Face Trainer needs tensors only)\n",
    "train_dataset = train_dataset.remove_columns([\"Text\", \"Sentiment\", \"Timestamp\", \"User\", \"Platform\", \"Hashtags\", \"Retweets\", \"Likes\", \"Country\", \"Year\", \"Month\", \"Day\", \"Hour\"])\n",
    "test_dataset = test_dataset.remove_columns([\"Text\", \"Sentiment\", \"Timestamp\", \"User\", \"Platform\", \"Hashtags\", \"Retweets\", \"Likes\", \"Country\", \"Year\", \"Month\", \"Day\", \"Hour\"])\n",
    "\n",
    "# 6. Set Up Trainer and Training Arguments\n",
    "training_args = TrainingArguments(\n",
    "    output_dir=\"./results\",\n",
    "    evaluation_strategy=\"epoch\",\n",
    "    save_strategy=\"epoch\",\n",
    "    per_device_train_batch_size=16,\n",
    "    per_device_eval_batch_size=16,\n",
    "    num_train_epochs=3,\n",
    "    weight_decay=0.01,\n",
    "    load_best_model_at_end=True,\n",
    "    metric_for_best_model=\"accuracy\",\n",
    ")\n",
    "\n",
    "# 7. Define Accuracy Metric\n",
    "accuracy = load(\"accuracy\")\n",
    "\n",
    "def compute_metrics(eval_pred):\n",
    "    import numpy as np\n",
    "    logits, labels = eval_pred\n",
    "    predictions = np.argmax(logits, axis=-1)\n",
    "    return accuracy.compute(predictions=predictions, references=labels)\n",
    "\n",
    "# 8. Initialize Trainer\n",
    "trainer = Trainer(\n",
    "    model=model,\n",
    "    args=training_args,\n",
    "    train_dataset=train_dataset,\n",
    "    eval_dataset=test_dataset,\n",
    "    compute_metrics=compute_metrics,\n",
    ")\n",
    "\n",
    "# 9. Fine-Tune the Model\n",
    "trainer.train()\n",
    "\n",
    "# 10. Evaluate and Save the Fine-Tuned Model\n",
    "trainer.evaluate()\n",
    "model.save_pretrained(\"./fine_tuned_twitter_roberta\")\n",
    "tokenizer.save_pretrained(\"./fine_tuned_twitter_roberta\")\n",
    "\n",
    "print(\"Fine-tuning complete and model saved!\")\n",
    "\n",
    "# 11. Test the Fine-Tuned Model\n",
    "from transformers import pipeline\n",
    "\n",
    "fine_tuned_pipeline = pipeline(\"text-classification\", model=\"./fine_tuned_twitter_roberta\", tokenizer=\"./fine_tuned_twitter_roberta\")\n",
    "result = fine_tuned_pipeline(\"I love this song so much 😍\")\n",
    "print(\"Test:\", result)\n"
   ]
  },
  {
   "cell_type": "markdown",
   "metadata": {},
   "source": [
    "This cell tests on the Multilingual Uncased Sentiment Model (good for Yelp) (https://huggingface.co/nlptown/bert-base-multilingual-uncased-sentiment):"
   ]
  },
  {
   "cell_type": "code",
   "execution_count": null,
   "metadata": {},
   "outputs": [],
   "source": [
    "from transformers import AutoTokenizer, AutoModelForSequenceClassification, Trainer, TrainingArguments, pipeline\n",
    "from datasets import Dataset\n",
    "from evaluate import load\n",
    "import pandas as pd\n",
    "import numpy as np\n",
    "\n",
    "# 1. Load Dataset\n",
    "def load_dataset_from_csv(file_path):\n",
    "    df = pd.read_csv(file_path)\n",
    "    return Dataset.from_pandas(df)\n",
    "\n",
    "# Adjust paths to the Yelp dataset\n",
    "train_dataset = load_dataset_from_csv(\"../data/YelpReviewsDataset.csv\")\n",
    "test_dataset = load_dataset_from_csv(\"../data/YelpReviewsDataset.csv\")\n",
    "\n",
    "# 2. Load Tokenizer and Model\n",
    "MODEL = \"nlptown/bert-base-multilingual-uncased-sentiment\"\n",
    "tokenizer = AutoTokenizer.from_pretrained(MODEL)\n",
    "model = AutoModelForSequenceClassification.from_pretrained(MODEL, num_labels=5)  # Yelp uses 1-5 stars\n",
    "\n",
    "# 3. Map Sentiment Labels to Integers (1 to 5 stars)\n",
    "def map_labels(example):\n",
    "    try:\n",
    "        example[\"labels\"] = int(example[\"Sentiment\"])\n",
    "        return example\n",
    "    except ValueError:\n",
    "        return None  # Ignore invalid labels\n",
    "\n",
    "# Apply mapping and filter out invalid labels\n",
    "train_dataset = train_dataset.filter(lambda example: str(example[\"Sentiment\"]).isdigit())\n",
    "test_dataset = test_dataset.filter(lambda example: str(example[\"Sentiment\"]).isdigit())\n",
    "\n",
    "train_dataset = train_dataset.map(map_labels)\n",
    "test_dataset = test_dataset.map(map_labels)\n",
    "\n",
    "# 4. Tokenize Dataset\n",
    "def tokenize_function(example):\n",
    "    return tokenizer(example[\"Text\"], truncation=True, padding=\"max_length\", max_length=128)\n",
    "\n",
    "train_dataset = train_dataset.map(tokenize_function, batched=True)\n",
    "test_dataset = test_dataset.map(tokenize_function, batched=True)\n",
    "\n",
    "# Remove original text column (Hugging Face Trainer needs tensors only)\n",
    "train_dataset = train_dataset.remove_columns([\"Text\"])\n",
    "test_dataset = test_dataset.remove_columns([\"Text\"])\n",
    "\n",
    "# 5. Set Up Trainer and Training Arguments\n",
    "training_args = TrainingArguments(\n",
    "    output_dir=\"./yelp_results\",\n",
    "    evaluation_strategy=\"epoch\",\n",
    "    save_strategy=\"epoch\",\n",
    "    per_device_train_batch_size=16,\n",
    "    per_device_eval_batch_size=16,\n",
    "    num_train_epochs=3,\n",
    "    weight_decay=0.01,\n",
    "    load_best_model_at_end=True,\n",
    "    metric_for_best_model=\"accuracy\",\n",
    ")\n",
    "\n",
    "# Define accuracy metric\n",
    "accuracy = load(\"accuracy\")\n",
    "\n",
    "def compute_metrics(eval_pred):\n",
    "    logits, labels = eval_pred\n",
    "    predictions = np.argmax(logits, axis=-1)\n",
    "    return accuracy.compute(predictions=predictions, references=labels)\n",
    "\n",
    "# Initialize Trainer\n",
    "trainer = Trainer(\n",
    "    model=model,\n",
    "    args=training_args,\n",
    "    train_dataset=train_dataset,\n",
    "    eval_dataset=test_dataset,\n",
    "    compute_metrics=compute_metrics,\n",
    ")\n",
    "\n",
    "# 6. Fine-Tune the Model\n",
    "trainer.train()\n",
    "\n",
    "# 7. Evaluate and Save the Fine-Tuned Model\n",
    "trainer.evaluate()\n",
    "model.save_pretrained(\"./fine_tuned_yelp_bert\")\n",
    "tokenizer.save_pretrained(\"./fine_tuned_yelp_bert\")\n",
    "\n",
    "print(\"Fine-tuning complete and model saved!\")\n",
    "\n",
    "# 8. Test the Fine-Tuned Model (Optional)\n",
    "fine_tuned_pipeline = pipeline(\"sentiment-analysis\", model=\"./fine_tuned_yelp_bert\", tokenizer=\"./fine_tuned_yelp_bert\")\n",
    "test_cases = [\n",
    "    \"The food was fantastic, but the service was slow.\",\n",
    "    \"Absolutely awful. Never coming back.\",\n",
    "    \"Great food, great service. Highly recommend!\"\n",
    "]\n",
    "\n",
    "for i, text in enumerate(test_cases, 1):\n",
    "    result = fine_tuned_pipeline(text)\n",
    "    print(f\"Test Case {i}: {text} Classification: {result}\")\n"
   ]
  }
 ],
 "metadata": {
  "kernelspec": {
   "display_name": "venv",
   "language": "python",
   "name": "python3"
  },
  "language_info": {
   "codemirror_mode": {
    "name": "ipython",
    "version": 3
   },
   "file_extension": ".py",
   "mimetype": "text/x-python",
   "name": "python",
   "nbconvert_exporter": "python",
   "pygments_lexer": "ipython3",
   "version": "3.12.8"
  }
 },
 "nbformat": 4,
 "nbformat_minor": 2
}
